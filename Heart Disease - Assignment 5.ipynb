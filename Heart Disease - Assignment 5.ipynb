{
 "cells": [
  {
   "cell_type": "markdown",
   "metadata": {},
   "source": [
    "Assignment 5\n",
    "Objective: Identify presence of heart disease.\n",
    "\n",
    "Dataset\n",
    "Data: https://www.kaggle.com/ronitf/heart-disease-uci\n",
    "\n",
    "Possible Work to be done\n",
    "1.\tWhat is the primary objective that you are addressing and why?\n",
    "2.\tFor all the independent variables given, state the discrete variables and their types (For example Nominal/Ordinal …).\n",
    "3.\tFind the independent variables which are good candidates for data transformation\n",
    "4.\tTransform any one variable which is interval/ratio to categorical variable\n",
    "5.\tTransform any one variable which is interval/ratio to ordinal variable\n",
    "6.\tIs there any association between any two interval/ratio variable. How will you go about it?\n",
    "7.\tWhich graph type would you prefer to use for visualizing each variable\n",
    "8.\tWhat will be your criteria to select the classification algorithm?\n",
    "9.\tHow will you evaluate the performance of two classifier that you investigated and state which is better\n",
    "10. Can you deploy your model in real time? What are the challenges?\n"
   ]
  },
  {
   "cell_type": "code",
   "execution_count": 1,
   "metadata": {},
   "outputs": [],
   "source": [
    "import numpy as np\n",
    "import pandas as pd"
   ]
  },
  {
   "cell_type": "code",
   "execution_count": 10,
   "metadata": {},
   "outputs": [
    {
     "name": "stdout",
     "output_type": "stream",
     "text": [
      "The data set has 303 rows and 14 columns\n"
     ]
    }
   ],
   "source": [
    "heart_disease_dataset = pd.read_csv(\"./heart.csv\") \n",
    "print(\"The data set has {} rows and {} columns\".\n",
    "      format(heart_disease_dataset.shape[0],\n",
    "             heart_disease_dataset.shape[1]))"
   ]
  },
  {
   "cell_type": "markdown",
   "metadata": {},
   "source": [
    "### 1.\tWhat is the primary objective that you are addressing and why?"
   ]
  },
  {
   "cell_type": "markdown",
   "metadata": {},
   "source": [
    "This dataset gives a number of variables along with a target condition of having or not having heart disease. \n",
    "#### Our \"primary objective\" is to use this data set and build a machine learning model which would help doctors to predict the presence of heart disease in the patient."
   ]
  },
  {
   "cell_type": "markdown",
   "metadata": {},
   "source": [
    "### 2. For all the independent variables given, state the discrete variables and their types (For example Nominal/Ordinal …)."
   ]
  },
  {
   "cell_type": "code",
   "execution_count": 12,
   "metadata": {},
   "outputs": [
    {
     "data": {
      "text/plain": [
       "age          41\n",
       "sex           2\n",
       "cp            4\n",
       "trestbps     49\n",
       "chol        152\n",
       "fbs           2\n",
       "restecg       3\n",
       "thalach      91\n",
       "exang         2\n",
       "oldpeak      40\n",
       "slope         3\n",
       "ca            5\n",
       "thal          4\n",
       "target        2\n",
       "dtype: int64"
      ]
     },
     "execution_count": 12,
     "metadata": {},
     "output_type": "execute_result"
    }
   ],
   "source": [
    "# Find the uniqe values of each variable.\n",
    "heart_disease_dataset.nunique()"
   ]
  },
  {
   "cell_type": "markdown",
   "metadata": {},
   "source": [
    "Its clear from the above considering unique values of columns, there are 13 independent variables and 1 target variable.\n",
    "\n",
    "### Discrete Independent Variables and Types\n",
    "\n",
    "#### A. Nominal , Binary\n",
    "1. sex (0 = female; 1 = male)\n",
    "2. fbs: Fasting blood sugar > 120 mg/dl (0 = no; 1 = yes)\n",
    "3. exang: Exercise induced angina (0 = no; 1 = yes)\n",
    "\n",
    "#### B. Nominal , Categorical\n",
    "1. cp: Chest pain type (0 = Asymptomatic angina; 1 = Atypical angina; 2 = Non-angina; 3 = Typical angina)\n",
    "2. restecg: Resting ECG (0 = Left ventricular hypertrophy; 1 = Normal; 2 = ST-T wave abnormality)\n",
    "3. slope: Slope of the peak exercise ST segment (0 = downsloping; 1 = upsloping; 2 = flat)\n",
    "4. thal: Thalium stress test result (0 = NA; 1 = Fixed defect; 2 = Normal; 3 = Reversible defect)\n",
    "\n",
    "#### C. Ordinal\n",
    "1. ca: number of major vessels (0-3)\n",
    "\n",
    "\n",
    "\n",
    "\n",
    "### Continuous variables\n",
    "1. age \n",
    "2. chol\n",
    "3. fbs\n",
    "4. thalach\n",
    "5. oldpeak"
   ]
  },
  {
   "cell_type": "code",
   "execution_count": null,
   "metadata": {},
   "outputs": [],
   "source": []
  }
 ],
 "metadata": {
  "kernelspec": {
   "display_name": "Python 3",
   "language": "python",
   "name": "python3"
  },
  "language_info": {
   "codemirror_mode": {
    "name": "ipython",
    "version": 3
   },
   "file_extension": ".py",
   "mimetype": "text/x-python",
   "name": "python",
   "nbconvert_exporter": "python",
   "pygments_lexer": "ipython3",
   "version": "3.7.0"
  }
 },
 "nbformat": 4,
 "nbformat_minor": 4
}
